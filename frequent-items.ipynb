{
 "metadata": {
  "language_info": {
   "codemirror_mode": {
    "name": "ipython",
    "version": 3
   },
   "file_extension": ".py",
   "mimetype": "text/x-python",
   "name": "python",
   "nbconvert_exporter": "python",
   "pygments_lexer": "ipython3",
   "version": "3.8.5-final"
  },
  "orig_nbformat": 2,
  "kernelspec": {
   "name": "python3",
   "display_name": "Python 3.8.5 64-bit",
   "metadata": {
    "interpreter": {
     "hash": "916dbcbb3f70747c44a77c7bcd40155683ae19c65e1c03b4aa3499c5328201f1"
    }
   }
  }
 },
 "nbformat": 4,
 "nbformat_minor": 2,
 "cells": [
  {
   "source": [
    "# IMPORTS\n",
    "import gzip\n",
    "import random\n",
    "import math\n",
    "import time\n",
    "import timeit\n",
    "from operator import itemgetter\n"
   ],
   "cell_type": "code",
   "metadata": {},
   "execution_count": 1,
   "outputs": []
  },
  {
   "cell_type": "code",
   "execution_count": 2,
   "metadata": {},
   "outputs": [],
   "source": [
    "# EXACT ALGORITHM\n",
    "def exact_freq_items(thres, data):\n",
    "\n",
    "    # get start time of algorithm to calculate runtime later\n",
    "    start_time = time.time()\n",
    "\n",
    "    # create dict to store support of each item\n",
    "    support = dict()\n",
    "    # create a counter to measure dsize as we read thru data\n",
    "    dsize = 0\n",
    "\n",
    "    # open file and read transactions line by line\n",
    "    # increment dsize by 1 for each transaction\n",
    "    # loop thru transaction and increment support for each item present\n",
    "    with gzip.open(data, 'rt') as reader:\n",
    "        for transaction in reader:\n",
    "            \n",
    "            #increment dataset size counter\n",
    "            dsize += 1\n",
    "\n",
    "            # split string into the items it contains\n",
    "            # split() strips whitespace and newlines\n",
    "            elements = transaction.split()\n",
    "\n",
    "            # increment support for each item in transaction\n",
    "            # if item not in dict, add it then increment\n",
    "            # else just increment\n",
    "            for element in elements:\n",
    "                if element in support.keys():\n",
    "                    support[element] += 1\n",
    "                else:\n",
    "                    support[element] = 1\n",
    "    \n",
    "    # for each item in support, calculate frequency\n",
    "    # calculate by dividing support of item by dsize\n",
    "    # if frequency is greater than thres, add tuple to output\n",
    "    # tuple consists of item value followed by frequency\n",
    "    output = []\n",
    "    for element in support.keys():\n",
    "        if support[element] / dsize >= thres:\n",
    "            output.append((int(element), support[element] / dsize))\n",
    "\n",
    "    # sort output by value of item in ascending order\n",
    "    # there can't be any ties\n",
    "    output = sorted(output, key=itemgetter(0))\n",
    "\n",
    "    # Sort output by frequency in descending order, ties broken by value of item \n",
    "    # python sorted() is \"stable\" so initial order is preserved during ties,\n",
    "    #   and original order is ascending by value of item\n",
    "    output = sorted(output, key= itemgetter(1), reverse=True) \n",
    "    \n",
    "    # get runtime\n",
    "    # multiply by 1000 to return value in ms and round to 3 decimals\n",
    "    final_time = round(1000 * (time.time() - start_time), 3)\n",
    "\n",
    "    # print size of dataset & runtime\n",
    "    print(\"Size of dataset: \" + str(dsize))\n",
    "    print(\"Runtime --- %s ms ---\" % final_time)\n",
    "\n",
    "    # return tuple of items and their frequencies\n",
    "    return output\n"
   ]
  },
  {
   "cell_type": "code",
   "execution_count": 4,
   "metadata": {
    "tags": []
   },
   "outputs": [
    {
     "output_type": "stream",
     "name": "stdout",
     "text": [
      "Size of dataset: 3384164\nRuntime --- 195594.204 ms ---\n[(122, 0.8448319880478605)]\n"
     ]
    }
   ],
   "source": [
    "# def wrapper(func, *args, **kwargs):\n",
    "#     def wrapped():\n",
    "#         return func(*args, **kwargs)\n",
    "#     return wrapped\n",
    "\n",
    "# wrapped_exact = wrapper(exact_freq_items, 0.0, \"./data/kosarak.txt.gz\")\n",
    "\n",
    "# elapsed_time = timeit.timeit(wrapped_exact, number=1)\n",
    "# print(elapsed_time)\n",
    "print(exact_freq_items(0.8, \"./data/webdocs.txt.gz\"))"
   ]
  },
  {
   "cell_type": "code",
   "execution_count": 5,
   "metadata": {},
   "outputs": [],
   "source": [
    "# Sampling algorithm\n",
    "def sample_freq_items(ssize, dsize, delta, thres, data):\n",
    "\n",
    "    # get start time of algorithm to calculate runtime later\n",
    "    start_time = time.time()\n",
    "\n",
    "    samples = random.sample(range(dsize),k=ssize)\n",
    "    samples.sort()\n",
    "\n",
    "    support = dict()\n",
    "    next = samples.pop(0)\n",
    "    current = 0\n",
    "    max_t = 0\n",
    "    with gzip.open(data, 'rt') as reader:\n",
    "        for transaction in reader:\n",
    "            if current == next:\n",
    "                elements = transaction.split()\n",
    "\n",
    "                if len(elements) > max_t:\n",
    "                    max_t = len(elements)\n",
    "\n",
    "                for element in elements:\n",
    "                    if element in support.keys():\n",
    "                        support[element] += 1\n",
    "                    else:\n",
    "                        support[element] = 1\n",
    "\n",
    "                next = samples.pop(0)\n",
    "                if len(samples) == 0:\n",
    "                    break\n",
    "\n",
    "            current += 1\n",
    "\n",
    "    ds = math.floor(math.log(max_t,2) + 1)\n",
    "    eps = math.sqrt(2*(ds + math.log(1/delta)) / ssize)\n",
    "\n",
    "    output = []\n",
    "\n",
    "    for element in support.keys():\n",
    "        if support[element] / ssize >= thres - eps/2:\n",
    "            output.append((int(element), support[element] / ssize))\n",
    "\n",
    "    # sort output by value of item in ascending order\n",
    "    # there can't be any ties\n",
    "    output = sorted(output, key=itemgetter(0))\n",
    "\n",
    "    # sort output by frequency in descending order, ties broken by value of item \n",
    "    # python sorted() is \"stable\" so order from intitial sort is preserved during ties,\n",
    "    #   and that order is ascending by value of item\n",
    "    output = sorted(output, key= itemgetter(1), reverse=True)\n",
    "\n",
    "    # get runtime\n",
    "    # multiply by 1000 to return value in ms and round to 3 decimals\n",
    "    final_time = round(1000 * (time.time() - start_time), 3)\n",
    "\n",
    "    # print runtime\n",
    "    print(\"Runtime --- %s ms ---\" % final_time)\n",
    "\n",
    "    return eps, output\n",
    "\n",
    "\n",
    "\n",
    "\n"
   ]
  },
  {
   "cell_type": "code",
   "execution_count": 7,
   "metadata": {
    "tags": []
   },
   "outputs": [
    {
     "output_type": "stream",
     "name": "stdout",
     "text": [
      "Runtime --- 13660.104 ms ---\n0.12370361794625914\n[(122, 0.84), (8, 0.774)]\n"
     ]
    }
   ],
   "source": [
    "\n",
    "#eps,output = sample_freq_items(2000, 3401830, 0.1, 0.8,\"./data/accidents.txt.gz\")\n",
    "#eps,output = sample_freq_items(2000, 2970006, 0.1, 0.8,\"./data/kosarak.txt.gz\")\n",
    "eps,output = sample_freq_items(2000, 3384164, 0.1, 0.8,\"./data/webdocs.txt.gz\")\n",
    "print(eps)\n",
    "print(output)"
   ]
  },
  {
   "cell_type": "code",
   "execution_count": null,
   "metadata": {},
   "outputs": [],
   "source": []
  }
 ]
}