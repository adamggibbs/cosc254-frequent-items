{
 "metadata": {
  "language_info": {
   "codemirror_mode": {
    "name": "ipython",
    "version": 3
   },
   "file_extension": ".py",
   "mimetype": "text/x-python",
   "name": "python",
   "nbconvert_exporter": "python",
   "pygments_lexer": "ipython3",
   "version": "3.8.5-final"
  },
  "orig_nbformat": 2,
  "kernelspec": {
   "name": "python3",
   "display_name": "Python 3.8.5 64-bit",
   "metadata": {
    "interpreter": {
     "hash": "916dbcbb3f70747c44a77c7bcd40155683ae19c65e1c03b4aa3499c5328201f1"
    }
   }
  }
 },
 "nbformat": 4,
 "nbformat_minor": 2,
 "cells": [
  {
   "source": [
    "# IMPORTS\n",
    "import gzip\n",
    "import random\n",
    "import math\n"
   ],
   "cell_type": "code",
   "metadata": {},
   "execution_count": 17,
   "outputs": []
  },
  {
   "cell_type": "code",
   "execution_count": 45,
   "metadata": {},
   "outputs": [],
   "source": [
    "# EXACT ALGORITHM\n",
    "def exact_freq_items(thres, data):\n",
    "\n",
    "    support = dict()\n",
    "    dsize = 0\n",
    "\n",
    "    with gzip.open(data, 'rt') as reader:\n",
    "        for transaction in reader:\n",
    "            dsize += 1\n",
    "            elements = transaction.split()\n",
    "            for element in elements:\n",
    "                if element in support.keys():\n",
    "                    support[element] += 1\n",
    "                else:\n",
    "                    support[element] = 1\n",
    "    \n",
    "    output = []\n",
    "\n",
    "    for element in support.keys():\n",
    "        if support[element] / dsize >= thres:\n",
    "            output.append((element, support[element] / dsize))\n",
    "\n",
    "    print(dsize)\n",
    "    return output\n"
   ]
  },
  {
   "cell_type": "code",
   "execution_count": 46,
   "metadata": {},
   "outputs": [
    {
     "output_type": "stream",
     "name": "stdout",
     "text": [
      "3401830\n[('8', 0.7027423475011979), ('12', 0.9982891561306708), ('15', 0.8022681909442859), ('16', 0.9771622920604498), ('17', 0.9999059329831297), ('18', 0.9968017214264088), ('21', 0.8890685307613844), ('24', 0.8060749655332571), ('25', 0.759691107433352), ('27', 0.8349506001181717), ('28', 0.7953513256100393), ('29', 0.8795001513891053), ('31', 0.9348321344688006), ('41', 0.7778078269637224), ('43', 0.856586013998348), ('59', 0.72400443290817)]\n"
     ]
    }
   ],
   "source": [
    "print(exact_freq_items(0.7, \"./data/accidents.txt.gz\"))"
   ]
  },
  {
   "cell_type": "code",
   "execution_count": 52,
   "metadata": {},
   "outputs": [],
   "source": [
    "# Sampling algorithm\n",
    "def sample_freq_items(ssize, dsize, delta, thres, data):\n",
    "\n",
    "    samples = random.sample(range(dsize),k=ssize)\n",
    "    samples.sort()\n",
    "\n",
    "    support = dict()\n",
    "    next = samples.pop(0)\n",
    "    current = 0\n",
    "    max_t = 0\n",
    "    with gzip.open(data, 'rt') as reader:\n",
    "        for transaction in reader:\n",
    "            if current == next:\n",
    "                elements = transaction.split()\n",
    "\n",
    "                if len(elements) > max_t:\n",
    "                    max_t = len(elements)\n",
    "\n",
    "                for element in elements:\n",
    "                    if element in support.keys():\n",
    "                        support[element] += 1\n",
    "                    else:\n",
    "                        support[element] = 1\n",
    "\n",
    "                next = samples.pop(0)\n",
    "                if len(samples) == 0:\n",
    "                    break\n",
    "\n",
    "            current += 1\n",
    "\n",
    "    ds = math.floor(math.log(max_t,2) + 1)\n",
    "    eps = math.sqrt(2*(ds + math.log(1/delta)) / ssize)\n",
    "\n",
    "    output = []\n",
    "\n",
    "    for element in support.keys():\n",
    "        if support[element] / ssize >= thres - eps/2:\n",
    "            output.append((element, support[element] / ssize))\n",
    "\n",
    "    return eps, output\n",
    "\n",
    "\n",
    "\n",
    "\n"
   ]
  },
  {
   "cell_type": "code",
   "execution_count": 54,
   "metadata": {
    "tags": []
   },
   "outputs": [
    {
     "output_type": "stream",
     "name": "stdout",
     "text": [
      "0.09111852222788759\n[('8', 0.6915), ('12', 0.997), ('15', 0.813), ('16', 0.9765), ('17', 0.9995), ('18', 0.9945), ('21', 0.891), ('24', 0.809), ('25', 0.7545), ('27', 0.846), ('29', 0.8735), ('43', 0.8605), ('22', 0.675), ('28', 0.7845), ('31', 0.929), ('41', 0.766), ('59', 0.7145), ('1', 0.699)]\n"
     ]
    }
   ],
   "source": [
    "eps,output = sample_freq_items(2000,3401830,0.1,0.7,\"./data/accidents.txt.gz\")\n",
    "print(eps)\n",
    "print(output)"
   ]
  },
  {
   "cell_type": "code",
   "execution_count": null,
   "metadata": {},
   "outputs": [],
   "source": []
  }
 ]
}