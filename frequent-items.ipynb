{
 "metadata": {
  "language_info": {
   "codemirror_mode": {
    "name": "ipython",
    "version": 3
   },
   "file_extension": ".py",
   "mimetype": "text/x-python",
   "name": "python",
   "nbconvert_exporter": "python",
   "pygments_lexer": "ipython3",
   "version": "3.8.5-final"
  },
  "orig_nbformat": 2,
  "kernelspec": {
   "name": "python3",
   "display_name": "Python 3.8.5 64-bit",
   "metadata": {
    "interpreter": {
     "hash": "916dbcbb3f70747c44a77c7bcd40155683ae19c65e1c03b4aa3499c5328201f1"
    }
   }
  }
 },
 "nbformat": 4,
 "nbformat_minor": 2,
 "cells": [
  {
   "source": [
    "# IMPORTS\n",
    "import gzip\n",
    "import random\n",
    "import math\n"
   ],
   "cell_type": "code",
   "metadata": {},
   "execution_count": 2,
   "outputs": []
  },
  {
   "cell_type": "code",
   "execution_count": 3,
   "metadata": {},
   "outputs": [],
   "source": [
    "# EXACT ALGORITHM\n",
    "def exact_freq_items(thres, data):\n",
    "\n",
    "    support = dict()\n",
    "    dsize = 0\n",
    "\n",
    "    with gzip.open(data, 'rt') as reader:\n",
    "        for transaction in reader:\n",
    "            dsize += 1\n",
    "            elements = transaction.split()\n",
    "            for element in elements:\n",
    "                if element in support.keys():\n",
    "                    support[element] += 1\n",
    "                else:\n",
    "                    support[element] = 1\n",
    "    \n",
    "    output = []\n",
    "\n",
    "    for element in support.keys():\n",
    "        if support[element] / dsize >= thres:\n",
    "            output.append((element, support[element] / dsize))\n",
    "\n",
    "    print(dsize)\n",
    "    return output\n"
   ]
  },
  {
   "cell_type": "code",
   "execution_count": 16,
   "metadata": {
    "tags": []
   },
   "outputs": [
    {
     "output_type": "stream",
     "name": "stdout",
     "text": [
      "2970006\n[('3', 0.4545758493417185), ('6', 0.6074472576823077)]\n"
     ]
    }
   ],
   "source": [
    "print(exact_freq_items(0.4, \"./data/kosarak.txt.gz\"))"
   ]
  },
  {
   "cell_type": "code",
   "execution_count": 5,
   "metadata": {},
   "outputs": [],
   "source": [
    "# Sampling algorithm\n",
    "def sample_freq_items(ssize, dsize, delta, thres, data):\n",
    "\n",
    "    samples = random.sample(range(dsize),k=ssize)\n",
    "    samples.sort()\n",
    "\n",
    "    support = dict()\n",
    "    next = samples.pop(0)\n",
    "    current = 0\n",
    "    max_t = 0\n",
    "    with gzip.open(data, 'rt') as reader:\n",
    "        for transaction in reader:\n",
    "            if current == next:\n",
    "                elements = transaction.split()\n",
    "\n",
    "                if len(elements) > max_t:\n",
    "                    max_t = len(elements)\n",
    "\n",
    "                for element in elements:\n",
    "                    if element in support.keys():\n",
    "                        support[element] += 1\n",
    "                    else:\n",
    "                        support[element] = 1\n",
    "\n",
    "                next = samples.pop(0)\n",
    "                if len(samples) == 0:\n",
    "                    break\n",
    "\n",
    "            current += 1\n",
    "\n",
    "    ds = math.floor(math.log(max_t,2) + 1)\n",
    "    eps = math.sqrt(2*(ds + math.log(1/delta)) / ssize)\n",
    "\n",
    "    output = []\n",
    "\n",
    "    for element in support.keys():\n",
    "        if support[element] / ssize >= thres - eps/2:\n",
    "            output.append((element, support[element] / ssize))\n",
    "\n",
    "    return eps, output\n",
    "\n",
    "\n",
    "\n",
    "\n"
   ]
  },
  {
   "cell_type": "code",
   "execution_count": 17,
   "metadata": {
    "tags": []
   },
   "outputs": [
    {
     "output_type": "stream",
     "name": "stdout",
     "text": [
      "0.10631361668664108\n[('11', 0.3665), ('6', 0.611), ('3', 0.4495)]\n"
     ]
    }
   ],
   "source": [
    "dataset = 'kosarak'\n",
    "if dataset == 'accidents':\n",
    "    dsize = 3401830\n",
    "elif dataset == 'kosarak':\n",
    "    dsize = 2970006\n",
    "else:\n",
    "    dsize = 0\n",
    "\n",
    "eps,output = sample_freq_items(2000,dsize,0.1,0.4,\"./data/kosarak.txt.gz\")\n",
    "print(eps)\n",
    "print(output)"
   ]
  },
  {
   "cell_type": "code",
   "execution_count": null,
   "metadata": {},
   "outputs": [],
   "source": []
  }
 ]
}